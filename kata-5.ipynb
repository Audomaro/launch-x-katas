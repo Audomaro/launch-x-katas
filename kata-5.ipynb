{
 "cells": [
  {
   "cell_type": "markdown",
   "metadata": {},
   "source": [
    "# Ejercicio1 - Utilizar operadores aritméticos"
   ]
  },
  {
   "cell_type": "code",
   "execution_count": 19,
   "metadata": {},
   "outputs": [],
   "source": [
    "# Crear variables para almacenar las dos distancias\n",
    "# ¡Asegúrate de quitar las comas!\n",
    "\n",
    "planeta_tierra = 149597870 \n",
    "planeta_jupiter = 778547200"
   ]
  },
  {
   "cell_type": "code",
   "execution_count": 20,
   "metadata": {},
   "outputs": [],
   "source": [
    "distancia_km = planeta_jupiter - planeta_tierra\n",
    "distancia_ml = distancia_km // 1.609344"
   ]
  },
  {
   "cell_type": "code",
   "execution_count": 21,
   "metadata": {},
   "outputs": [
    {
     "name": "stdout",
     "output_type": "stream",
     "text": [
      "Distancia en KM: 628949330\n",
      "Distancia en Millas: 390810995.0\n"
     ]
    }
   ],
   "source": [
    "print('Distancia en KM: {0}'.format(distancia_km))\n",
    "print('Distancia en Millas: {0}'.format(distancia_ml))"
   ]
  },
  {
   "cell_type": "markdown",
   "metadata": {},
   "source": [
    "# Ejercicio 2: convierte cadenas en números y usa valores absolutos"
   ]
  },
  {
   "cell_type": "code",
   "execution_count": 25,
   "metadata": {},
   "outputs": [],
   "source": [
    "# Almacenar las entradas del usuario\n",
    "planeta_uno = input(\"Cuál es la distancia en Km del primer planeta respecto al sol?\")\n",
    "planeta_dos = input(\"Cuál es la distancia en Km del segundo planeta respecto al sol?\")"
   ]
  },
  {
   "cell_type": "code",
   "execution_count": 26,
   "metadata": {},
   "outputs": [],
   "source": [
    "# Convierte las cadenas de ambos planetas a números enteros\n",
    "planeta_uno = int(planeta_uno)\n",
    "planeta_dos = int(planeta_dos)"
   ]
  },
  {
   "cell_type": "code",
   "execution_count": 27,
   "metadata": {},
   "outputs": [
    {
     "name": "stdout",
     "output_type": "stream",
     "text": [
      "Distancia en Km: 629000000\n",
      "Distancia en Ml: 390842479.0\n"
     ]
    }
   ],
   "source": [
    "# Realizar el cálculo y determinar el valor absoluto\n",
    "distancia_km = planeta_dos - planeta_uno\n",
    "distancia_ml = distancia_km // 1.609344\n",
    "\n",
    "print('Distancia en Km: {0}'.format(distancia_km))\n",
    "print('Distancia en Ml: {0}'.format(abs(distancia_ml)))"
   ]
  }
 ],
 "metadata": {
  "interpreter": {
   "hash": "79b191b564cd0c1a762a1116c03bf878256a987ddf7680b7253675e14dc6036e"
  },
  "kernelspec": {
   "display_name": "Python 3.10.2 64-bit",
   "language": "python",
   "name": "python3"
  },
  "language_info": {
   "codemirror_mode": {
    "name": "ipython",
    "version": 3
   },
   "file_extension": ".py",
   "mimetype": "text/x-python",
   "name": "python",
   "nbconvert_exporter": "python",
   "pygments_lexer": "ipython3",
   "version": "3.10.2"
  },
  "orig_nbformat": 4
 },
 "nbformat": 4,
 "nbformat_minor": 2
}
