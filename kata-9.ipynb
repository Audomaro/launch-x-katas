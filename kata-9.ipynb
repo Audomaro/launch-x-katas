{
 "cells": [
  {
   "cell_type": "markdown",
   "metadata": {},
   "source": [
    "# Ejercicio 1: Trabajar con argumentos en funciones"
   ]
  },
  {
   "cell_type": "code",
   "execution_count": 44,
   "metadata": {},
   "outputs": [],
   "source": [
    "def reporte_tanques(tanque1,tanque2,tanque3):\n",
    "    promedio = (tanque1 + tanque2 + tanque3)/3\n",
    "\n",
    "    return f\"\"\"\n",
    "    **************************\n",
    "    *     Reporte tanques    *\n",
    "    **************************\n",
    "    * Promedio: {promedio}\n",
    "    --------------------------\n",
    "    * Tanque 1: {tanque1}\n",
    "    * Tanque 2: {tanque2}\n",
    "    * Tanque 3: {tanque3}\n",
    "    \"\"\"\n"
   ]
  },
  {
   "cell_type": "code",
   "execution_count": 45,
   "metadata": {},
   "outputs": [
    {
     "name": "stdout",
     "output_type": "stream",
     "text": [
      "\n",
      "    **************************\n",
      "    *     Reporte tanques    *\n",
      "    **************************\n",
      "    * Promedio: 20.0\n",
      "    --------------------------\n",
      "    * Tanque 1: 10\n",
      "    * Tanque 2: 20\n",
      "    * Tanque 3: 30\n",
      "    \n"
     ]
    }
   ],
   "source": [
    "print(reporte_tanques(10,20,30))"
   ]
  },
  {
   "cell_type": "code",
   "execution_count": 46,
   "metadata": {},
   "outputs": [],
   "source": [
    "def promedio_tanques(contenido_tanques):\n",
    "    suma_total_contenido = sum(contenido_tanques)\n",
    "    cantidad_tanques = len(contenido_tanques)\n",
    "    return suma_total_contenido / cantidad_tanques\n",
    "\n",
    "def reporte_tanques2(tanque1,tanque2,tanque3):\n",
    "    return f\"\"\"\n",
    "    **************************\n",
    "    *    Reporte 2 tanques   *\n",
    "    **************************\n",
    "    * Promedio: { promedio_tanques([tanque1, tanque2, tanque3])}\n",
    "    --------------------------\n",
    "    * Tanque 1: {tanque1}\n",
    "    * Tanque 2: {tanque2}\n",
    "    * Tanque 3: {tanque3}\n",
    "    \"\"\""
   ]
  },
  {
   "cell_type": "code",
   "execution_count": 47,
   "metadata": {},
   "outputs": [
    {
     "name": "stdout",
     "output_type": "stream",
     "text": [
      "\n",
      "    **************************\n",
      "    *    Reporte 2 tanques   *\n",
      "    **************************\n",
      "    * Promedio: 20.0\n",
      "    --------------------------\n",
      "    * Tanque 1: 10\n",
      "    * Tanque 2: 20\n",
      "    * Tanque 3: 30\n",
      "    \n"
     ]
    }
   ],
   "source": [
    "print(reporte_tanques2(10,20,30))"
   ]
  },
  {
   "cell_type": "markdown",
   "metadata": {},
   "source": [
    "# Ejercicio 2: Trabajo con argumentos de palabra clave"
   ]
  },
  {
   "cell_type": "code",
   "execution_count": 50,
   "metadata": {},
   "outputs": [
    {
     "name": "stdout",
     "output_type": "stream",
     "text": [
      "\n",
      "    **************************\n",
      "    *    Informe mision      *\n",
      "    **************************\n",
      "    * Destino: Marte\n",
      "    ----------------------------\n",
      "    * Tiempo de prelanzamiento: 10\n",
      "    * Tiempo de vuelo: 60\n",
      "    * Tiempo total requerido: 70\n",
      "    ----------------------------\n",
      "    * Tanque exterior: 500000\n",
      "    * Tanque interior: 450000\n",
      "    * Total de conbustible: 950000\n",
      "    \n"
     ]
    }
   ],
   "source": [
    "def informe_mision(tiempo_prelanzamiento,tiempo_vuelo,destino,tanque_exterior, tanque_interior):\n",
    "    return f\"\"\"\n",
    "    **************************\n",
    "    *    Informe mision      *\n",
    "    **************************\n",
    "    * Destino: {destino}\n",
    "    ----------------------------\n",
    "    * Tiempo de prelanzamiento: {tiempo_prelanzamiento}\n",
    "    * Tiempo de vuelo: {tiempo_vuelo}\n",
    "    * Tiempo total requerido: {tiempo_prelanzamiento + tiempo_vuelo}\n",
    "    ----------------------------\n",
    "    * Tanque exterior: {tanque_exterior}\n",
    "    * Tanque interior: {tanque_interior}\n",
    "    * Total de conbustible: {tanque_exterior + tanque_interior}\n",
    "    \"\"\"\n",
    "\n",
    "    \n",
    "print(informe_mision(10, 60, \"Marte\", 500000, 450000))"
   ]
  },
  {
   "cell_type": "code",
   "execution_count": 75,
   "metadata": {},
   "outputs": [
    {
     "name": "stdout",
     "output_type": "stream",
     "text": [
      "\n",
      "    **************************\n",
      "    *   Informe 2 mision     *\n",
      "    **************************\n",
      "    * Destino: X\n",
      "    * Tiempo total requerido: 8420 minutos\n",
      "    * Total de tanques: 3 unidades\n",
      "    * Total de conbustible: 6175000 litros\n",
      "    \t- Tanque interior: 5000000 litros\n",
      "\t- Tanque exterior: 500000 litros\n",
      "\t- Tanque reseva: 675000 litros\n",
      "\n"
     ]
    }
   ],
   "source": [
    "def informe_mision2(destino, *tiempo, **tanques):\n",
    "    reporte = f\"\"\"\n",
    "    **************************\n",
    "    *   Informe 2 mision     *\n",
    "    **************************\n",
    "    * Destino: {destino}\n",
    "    * Tiempo total requerido: {sum(tiempo)} minutos\n",
    "    * Total de tanques: {len(tanques)} unidades\n",
    "    * Total de conbustible: {sum(tanques.values())} litros\n",
    "    \"\"\"\n",
    "\n",
    "    for tanque, contenido in tanques.items():\n",
    "        reporte += f\"\\t- Tanque {tanque}: {contenido} litros\\n\"\n",
    "    \n",
    "    return reporte\n",
    "    \n",
    "print(informe_mision2(\"X\", 20, 8400, interior=5000000, exterior=500000, reseva=675000))"
   ]
  }
 ],
 "metadata": {
  "interpreter": {
   "hash": "79b191b564cd0c1a762a1116c03bf878256a987ddf7680b7253675e14dc6036e"
  },
  "kernelspec": {
   "display_name": "Python 3.10.2 64-bit",
   "language": "python",
   "name": "python3"
  },
  "language_info": {
   "codemirror_mode": {
    "name": "ipython",
    "version": 3
   },
   "file_extension": ".py",
   "mimetype": "text/x-python",
   "name": "python",
   "nbconvert_exporter": "python",
   "pygments_lexer": "ipython3",
   "version": "3.10.2"
  },
  "orig_nbformat": 4
 },
 "nbformat": 4,
 "nbformat_minor": 2
}
