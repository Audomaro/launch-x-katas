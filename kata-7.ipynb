{
 "cells": [
  {
   "cell_type": "markdown",
   "metadata": {},
   "source": [
    "# Ejercicio 1: Creación de un bucle \"while\""
   ]
  },
  {
   "cell_type": "code",
   "execution_count": 7,
   "metadata": {},
   "outputs": [],
   "source": [
    "planetas = []\n",
    "nombre_planeta = ''\n",
    "\n",
    "while nombre_planeta.lower() != 'salir':\n",
    "    if nombre_planeta != '':\n",
    "        planetas.append(nombre_planeta)\n",
    "    \n",
    "    nombre_planeta = input('Cual es el nombre del planeta que desea agregar?')"
   ]
  },
  {
   "cell_type": "markdown",
   "metadata": {},
   "source": [
    "# Ejercicio 2: Creación de un ciclo \"for\""
   ]
  },
  {
   "cell_type": "code",
   "execution_count": 8,
   "metadata": {},
   "outputs": [
    {
     "name": "stdout",
     "output_type": "stream",
     "text": [
      "1 - Mercurio\n",
      "2 - Venus\n",
      "3 - Tierra\n",
      "4 - Marte\n"
     ]
    }
   ],
   "source": [
    "contador = 0\n",
    "for planeta in planetas:\n",
    "    contador += 1\n",
    "    print(\"{0}. - {1}\".format(contador, planeta.capitalize()))"
   ]
  }
 ],
 "metadata": {
  "interpreter": {
   "hash": "79b191b564cd0c1a762a1116c03bf878256a987ddf7680b7253675e14dc6036e"
  },
  "kernelspec": {
   "display_name": "Python 3.10.2 64-bit",
   "language": "python",
   "name": "python3"
  },
  "language_info": {
   "codemirror_mode": {
    "name": "ipython",
    "version": 3
   },
   "file_extension": ".py",
   "mimetype": "text/x-python",
   "name": "python",
   "nbconvert_exporter": "python",
   "pygments_lexer": "ipython3",
   "version": "3.10.2"
  },
  "orig_nbformat": 4
 },
 "nbformat": 4,
 "nbformat_minor": 2
}
