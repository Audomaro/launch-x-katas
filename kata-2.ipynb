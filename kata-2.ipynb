{
 "cells": [
  {
   "cell_type": "markdown",
   "metadata": {},
   "source": [
    "# Ejercicio - Crear un paquete \n",
    "\n",
    "* Crear un entorno virtual \n",
    "* Instalar una biblioteca \n",
    "* Desactivar un entorno virtual\n",
    "\n",
    "![Kata 2](./images/kata-2.png)!"
   ]
  }
 ],
 "metadata": {
  "interpreter": {
   "hash": "a4300209306110021c5c78e01c5b91169d5e399578ae8e35239c9ba187b2aac8"
  },
  "kernelspec": {
   "display_name": "Python 3.10.2 ('env': venv)",
   "language": "python",
   "name": "python3"
  },
  "language_info": {
   "name": "python",
   "version": "3.10.2"
  },
  "orig_nbformat": 4
 },
 "nbformat": 4,
 "nbformat_minor": 2
}
