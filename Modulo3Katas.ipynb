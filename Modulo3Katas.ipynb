{
 "cells": [
  {
   "cell_type": "code",
   "execution_count": 6,
   "metadata": {},
   "outputs": [
    {
     "name": "stdout",
     "output_type": "stream",
     "text": [
      "Peligro, se acerca un asteroide a la tierra a una velociad de 49 km/s\n"
     ]
    }
   ],
   "source": [
    "velocidad_asteroide = 49\n",
    "\n",
    "if(velocidad_asteroide > 25):\n",
    "    print('Peligro, se acerca un asteroide a la tierra a una velociad de ' +\n",
    "          str(velocidad_asteroide) + ' km/s')\n",
    "else:\n",
    "    print('Se acerca un asteroide a la tierra a una velociad de ' +\n",
    "          str(velocidad_asteroide) + ' km/s')"
   ]
  },
  {
   "cell_type": "code",
   "execution_count": 11,
   "metadata": {},
   "outputs": [
    {
     "name": "stdout",
     "output_type": "stream",
     "text": [
      "Mira al cielo y pide un deseo :3\n"
     ]
    }
   ],
   "source": [
    "velocidad_asteroide = 25\n",
    "\n",
    "if(velocidad_asteroide >= 20):\n",
    "    print('Mira al cielo y pide un deseo :3')\n",
    "else:\n",
    "    print('Sigue esperando :)')\n"
   ]
  },
  {
   "cell_type": "code",
   "execution_count": 17,
   "metadata": {},
   "outputs": [
    {
     "name": "stdout",
     "output_type": "stream",
     "text": [
      "Sigue esperando :)\n"
     ]
    }
   ],
   "source": [
    "velocidad_asteroide = 15\n",
    "tamano_asteroide = 15\n",
    "if velocidad_asteroide > 25 and tamano_asteroide > 25:\n",
    "   print('Peligro, se acerca un asteroide de ' + str(tamano_asteroide) +' metros a la tierra a una velociad de ' +\n",
    "         str(velocidad_asteroide) + ' km/s :S')\n",
    "elif velocidad_asteroide >= 20:\n",
    "    print('Mira al cielo y pide un deseo :3')\n",
    "elif tamano_asteroide < 25:\n",
    "    print('Sigue esperando :)')\n",
    "else:\n",
    "   print('Sigue esperando :)')\n"
   ]
  }
 ],
 "metadata": {
  "interpreter": {
   "hash": "b89b5cfaba6639976dc87ff2fec6d58faec662063367e2c229c520fe71072417"
  },
  "kernelspec": {
   "display_name": "Python 3.10.2 64-bit",
   "language": "python",
   "name": "python3"
  },
  "language_info": {
   "codemirror_mode": {
    "name": "ipython",
    "version": 3
   },
   "file_extension": ".py",
   "mimetype": "text/x-python",
   "name": "python",
   "nbconvert_exporter": "python",
   "pygments_lexer": "ipython3",
   "version": "3.10.2"
  },
  "orig_nbformat": 4
 },
 "nbformat": 4,
 "nbformat_minor": 2
}
